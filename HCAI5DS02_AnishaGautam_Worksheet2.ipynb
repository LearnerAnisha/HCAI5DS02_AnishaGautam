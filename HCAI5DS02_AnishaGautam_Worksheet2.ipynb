{
 "cells": [
  {
   "cell_type": "code",
   "execution_count": 1,
   "id": "d5d37c2b-1d91-4783-9c10-71824790a0d5",
   "metadata": {},
   "outputs": [],
   "source": [
    "import pandas as pd\n",
    "import numpy as np\n",
    "import matplotlib.pyplot as plt"
   ]
  },
  {
   "cell_type": "markdown",
   "id": "49a9aa60-eb30-4e03-8b3a-41960611c71a",
   "metadata": {},
   "source": [
    "Identifying Defective Products in an E-Commerce Platform."
   ]
  },
  {
   "cell_type": "markdown",
   "id": "a965bc59-cfc6-4e15-8f45-98dba89a5658",
   "metadata": {},
   "source": [
    "Background:\n",
    "You are a data analyst at Quick-shop, an e-commerce company. The customer support team has flagged\n",
    "”Product X” for unusually high return rates. Before taking costly actions (e.g., recalls, supplier penalties),\n",
    "you need to determine whether the returns are due to defects (quality issues) or other factors (e.g., customer\n",
    "preferences).\n",
    "Your team has provided a dataset with 10,000 products, including:\n",
    "Dataset: \"product\\_review\\_dataset.csv\"\n",
    "• Defective (Binary: 1 = defective, 0 = not defective)\n",
    "• HighReturn (Binary: 1 = high return rate, 0 = low return rate)\n",
    "• ReviewRating (Numeric: 1–5 star rating)\n",
    "• HasComplaint (Boolean: True/False)\n",
    "• VerifiedPurchase (Boolean: True/False)\n",
    "Sample row:\n",
    "Defective=0, HighReturn=1, ReviewRating=3.8, HasComplaint=False, VerifiedPurchase=True"
   ]
  },
  {
   "cell_type": "markdown",
   "id": "f2e432a2-7353-439f-9834-176db7fde194",
   "metadata": {},
   "source": [
    "Tasks"
   ]
  },
  {
   "cell_type": "markdown",
   "id": "9189be77-36ea-47d4-afb1-a76ca8c070eb",
   "metadata": {},
   "source": [
    "1. Exploratory Analysis\n",
    "  1. Compute the prior probability that a product is defective (P (Defective))\n",
    "  2. Compare the average review rating for defective vs. non-defective products\n",
    "  3. Calculate the return rate separately for:\n",
    "    • Defective products\n",
    "    • Non-defective products"
   ]
  },
  {
   "cell_type": "code",
   "execution_count": 2,
   "id": "59d69f50-3fce-44d6-9b0d-7cd07fa5125e",
   "metadata": {},
   "outputs": [],
   "source": [
    "df = pd.read_csv(\"product_review_dataset.csv\")"
   ]
  },
  {
   "cell_type": "code",
   "execution_count": 3,
   "id": "af7541b2-986f-43ed-b6f8-22b0853f5709",
   "metadata": {},
   "outputs": [
    {
     "data": {
      "text/html": [
       "<div>\n",
       "<style scoped>\n",
       "    .dataframe tbody tr th:only-of-type {\n",
       "        vertical-align: middle;\n",
       "    }\n",
       "\n",
       "    .dataframe tbody tr th {\n",
       "        vertical-align: top;\n",
       "    }\n",
       "\n",
       "    .dataframe thead th {\n",
       "        text-align: right;\n",
       "    }\n",
       "</style>\n",
       "<table border=\"1\" class=\"dataframe\">\n",
       "  <thead>\n",
       "    <tr style=\"text-align: right;\">\n",
       "      <th></th>\n",
       "      <th>Defective</th>\n",
       "      <th>HighReturn</th>\n",
       "      <th>ReviewRating</th>\n",
       "      <th>HasComplaint</th>\n",
       "      <th>VerifiedPurchase</th>\n",
       "    </tr>\n",
       "  </thead>\n",
       "  <tbody>\n",
       "    <tr>\n",
       "      <th>0</th>\n",
       "      <td>0</td>\n",
       "      <td>0</td>\n",
       "      <td>3.8</td>\n",
       "      <td>False</td>\n",
       "      <td>True</td>\n",
       "    </tr>\n",
       "    <tr>\n",
       "      <th>1</th>\n",
       "      <td>1</td>\n",
       "      <td>1</td>\n",
       "      <td>2.9</td>\n",
       "      <td>False</td>\n",
       "      <td>True</td>\n",
       "    </tr>\n",
       "    <tr>\n",
       "      <th>2</th>\n",
       "      <td>0</td>\n",
       "      <td>0</td>\n",
       "      <td>3.6</td>\n",
       "      <td>False</td>\n",
       "      <td>True</td>\n",
       "    </tr>\n",
       "    <tr>\n",
       "      <th>3</th>\n",
       "      <td>0</td>\n",
       "      <td>0</td>\n",
       "      <td>4.6</td>\n",
       "      <td>False</td>\n",
       "      <td>True</td>\n",
       "    </tr>\n",
       "    <tr>\n",
       "      <th>4</th>\n",
       "      <td>0</td>\n",
       "      <td>0</td>\n",
       "      <td>3.9</td>\n",
       "      <td>False</td>\n",
       "      <td>True</td>\n",
       "    </tr>\n",
       "  </tbody>\n",
       "</table>\n",
       "</div>"
      ],
      "text/plain": [
       "   Defective  HighReturn  ReviewRating  HasComplaint  VerifiedPurchase\n",
       "0          0           0           3.8         False              True\n",
       "1          1           1           2.9         False              True\n",
       "2          0           0           3.6         False              True\n",
       "3          0           0           4.6         False              True\n",
       "4          0           0           3.9         False              True"
      ]
     },
     "execution_count": 3,
     "metadata": {},
     "output_type": "execute_result"
    }
   ],
   "source": [
    "df.head()"
   ]
  },
  {
   "cell_type": "code",
   "execution_count": 4,
   "id": "2d097444-abbb-4cf8-8b90-a2595ab329d0",
   "metadata": {},
   "outputs": [
    {
     "name": "stdout",
     "output_type": "stream",
     "text": [
      "Prior Probability (P(Defective)) = 0.0961\n"
     ]
    }
   ],
   "source": [
    "total_products = len(df)\n",
    "num_defective = df['Defective'].sum()\n",
    "p_defective = num_defective / total_products\n",
    "\n",
    "print(f\"Prior Probability (P(Defective)) = {p_defective:.4f}\")"
   ]
  },
  {
   "cell_type": "code",
   "execution_count": 5,
   "id": "88b58cc3-a6ca-4edf-941b-103a5d208baa",
   "metadata": {},
   "outputs": [
    {
     "name": "stdout",
     "output_type": "stream",
     "text": [
      "Average Review Rating (Defective) = 2.48\n",
      "Average Review Rating (Non-Defective) = 4.18\n"
     ]
    }
   ],
   "source": [
    "avg_rating_defective = df[df['Defective'] == 1]['ReviewRating'].mean()\n",
    "avg_rating_non_defective = df[df['Defective'] == 0]['ReviewRating'].mean()\n",
    "\n",
    "print(f\"Average Review Rating (Defective) = {avg_rating_defective:.2f}\")\n",
    "print(f\"Average Review Rating (Non-Defective) = {avg_rating_non_defective:.2f}\")"
   ]
  },
  {
   "cell_type": "code",
   "execution_count": 6,
   "id": "e237e030-3e19-4f7b-8c97-ec431b74bfa5",
   "metadata": {},
   "outputs": [
    {
     "name": "stdout",
     "output_type": "stream",
     "text": [
      "Return Rate (Defective Products) = 0.6961\n",
      "Return Rate (Non-Defective Products) = 0.1026\n"
     ]
    }
   ],
   "source": [
    "# Return rate for defective products\n",
    "defective_returns = df[(df['Defective'] == 1) & (df['HighReturn'] == 1)].shape[0]\n",
    "total_defective = df[df['Defective'] == 1].shape[0]\n",
    "return_rate_defective = defective_returns / total_defective if total_defective else 0\n",
    "\n",
    "# Return rate for non-defective products\n",
    "non_defective_returns = df[(df['Defective'] == 0) & (df['HighReturn'] == 1)].shape[0]\n",
    "total_non_defective = df[df['Defective'] == 0].shape[0]\n",
    "return_rate_non_defective = non_defective_returns / total_non_defective if total_non_defective else 0\n",
    "\n",
    "print(f\"Return Rate (Defective Products) = {return_rate_defective:.4f}\")\n",
    "print(f\"Return Rate (Non-Defective Products) = {return_rate_non_defective:.4f}\")"
   ]
  },
  {
   "cell_type": "markdown",
   "id": "4522cf6d-813d-4777-9396-b0f9e05883ad",
   "metadata": {},
   "source": [
    "2. Bayesian Inference\n",
    "1. Calculate:\n",
    "• P (HighReturn | Defective)\n",
    "• P (HighReturn | Not Defective)\n",
    "• P (Defective | HighReturn) (Posterior probability)\n",
    "2. Interpretation:\n",
    "• If P (Defective |HighReturn) = 27%, what does this imply?\n",
    "• Should QuickShop prioritize recalls based solely on this probability? Justify your answer."
   ]
  },
  {
   "cell_type": "code",
   "execution_count": 7,
   "id": "b35a8e1b-45ee-47b9-b860-f8c1fffc6c60",
   "metadata": {},
   "outputs": [
    {
     "name": "stdout",
     "output_type": "stream",
     "text": [
      "P(HighReturn | Defective) = 0.6961\n",
      "P(HighReturn | Not Defective) = 0.1026\n",
      "P(Defective | HighReturn) = 0.4192\n"
     ]
    }
   ],
   "source": [
    "p_highreturn_given_defective = df[(df['Defective'] == 1) & (df['HighReturn'] == 1)].shape[0] / df[df['Defective'] == 1].shape[0]\n",
    "print(f\"P(HighReturn | Defective) = {p_highreturn_given_defective:.4f}\")\n",
    "\n",
    "p_highreturn_given_not_defective = df[(df['Defective'] == 0) & (df['HighReturn'] == 1)].shape[0] / df[df['Defective'] == 0].shape[0]\n",
    "print(f\"P(HighReturn | Not Defective) = {p_highreturn_given_not_defective:.4f}\")\n",
    "\n",
    "p_defective = df['Defective'].mean()\n",
    "p_not_defective = 1 - p_defective\n",
    "p_highreturn = df['HighReturn'].mean()\n",
    "p_defective_given_highreturn = (p_highreturn_given_defective * p_defective) / p_highreturn\n",
    "print(f\"P(Defective | HighReturn) = {p_defective_given_highreturn:.4f}\")"
   ]
  },
  {
   "cell_type": "markdown",
   "id": "1307e504-9017-4494-834e-a3b1d1dc62b0",
   "metadata": {},
   "source": [
    "If P (Defective |HighReturn) = 27%, these implies among all products with a high return rate, 27% are actually defective.The remaining 73% are not defective, so high returns are mostly due to other reasons (e.g., customer dissatisfaction, expectation mismatch, wrong size/color, etc.)."
   ]
  },
  {
   "cell_type": "markdown",
   "id": "efd591f5-c66c-442f-8e16-634354e12a91",
   "metadata": {},
   "source": [
    "A posterior probability of 27% indicates that the majority (73%) of high-return products are not defective. Therefore, initiating a recall based solely on this metric is not advisable. Such an approach lacks precision and may lead to unnecessary costs related to logistics, supplier penalties, and brand reputation.\n",
    "\n",
    "Instead, QuickShop should adopt a targeted strategy by integrating additional indicators such as customer complaints, low review ratings, and verification status. A risk-scoring model can help identify genuinely defective products. This approach enables more efficient interventions while minimizing unnecessary disruptions and expenses."
   ]
  },
  {
   "cell_type": "markdown",
   "id": "3e0e3444-9486-4f3f-bd21-d5e6fccdc87b",
   "metadata": {},
   "source": [
    "3. Multi-Feature Risk Scoring\n",
    "1. Create a risk score combining:\n",
    "• High returns (HighReturn=1)\n",
    "• Low ratings (ReviewRating ≤2)\n",
    "• Complaints (HasComplaint=True)\n",
    "2. Write Python code to identify the top 10 highest-risk products"
   ]
  },
  {
   "cell_type": "code",
   "execution_count": 8,
   "id": "ecdc2a95-7951-4403-8bdb-6e59764ab2b3",
   "metadata": {},
   "outputs": [],
   "source": [
    "df['RiskScore'] = (\n",
    "    (df['HighReturn'] == 1).astype(int) +\n",
    "    (df['ReviewRating'] <= 2).astype(int) +\n",
    "    (df['HasComplaint'] == True).astype(int)\n",
    ")"
   ]
  },
  {
   "cell_type": "code",
   "execution_count": 9,
   "id": "74d155eb-db74-4f4b-a7dd-2861768adf17",
   "metadata": {},
   "outputs": [
    {
     "name": "stdout",
     "output_type": "stream",
     "text": [
      "Top 1o highest-risk products are:\n",
      "    Defective  HighReturn  ReviewRating  HasComplaint  VerifiedPurchase  \\\n",
      "0          1           1           1.8          True             False   \n",
      "1          1           1           1.9          True              True   \n",
      "2          1           1           1.0          True              True   \n",
      "3          1           1           1.8          True              True   \n",
      "4          1           1           2.0          True              True   \n",
      "5          1           1           1.7          True              True   \n",
      "6          1           1           1.7          True              True   \n",
      "7          1           1           1.9          True              True   \n",
      "8          1           1           1.0          True              True   \n",
      "9          1           1           1.4          True             False   \n",
      "\n",
      "   RiskScore  \n",
      "0          3  \n",
      "1          3  \n",
      "2          3  \n",
      "3          3  \n",
      "4          3  \n",
      "5          3  \n",
      "6          3  \n",
      "7          3  \n",
      "8          3  \n",
      "9          3  \n"
     ]
    }
   ],
   "source": [
    "top_10_risk = df.sort_values(by='RiskScore', ascending=False).head(10)\n",
    "top_10_risk = top_10_risk.reset_index(drop=True)\n",
    "print(f\"Top 1o highest-risk products are:\\n {top_10_risk}\")"
   ]
  },
  {
   "cell_type": "markdown",
   "id": "a2f1fd03-0df0-43b9-8676-361b99557728",
   "metadata": {},
   "source": [
    "4. Decision-Making (10 minutes)\n",
    "    1. For a product with:\n",
    "    • HighReturn=1\n",
    "    • ReviewRating=1.5\n",
    "    • HasComplaint=True\n",
    "    • VerifiedPurchase=False\n",
    "    Would you recommend a recall? Justify using your calculations.\n",
    "    2. Propose what additional data would improve this analysis"
   ]
  },
  {
   "cell_type": "markdown",
   "id": "ad729946-4129-4b86-85e6-54d628ddd0fb",
   "metadata": {},
   "source": [
    "The product with HighReturn = 1, ReviewRating = 1.5, HasComplaint = True, and VerifiedPurchase = False scores the maximum risk based on the combined criteria. This strongly suggests a high likelihood of defectiveness. Therefore, a targeted recall or quality inspection is justified to prevent further customer dissatisfaction and protect brand reputation."
   ]
  },
  {
   "cell_type": "markdown",
   "id": "b3b9ad0b-298d-4c9b-be0a-4da37fd87c7f",
   "metadata": {},
   "source": [
    "Incorporating data such as product identifiers, return reasons, supplier information, return dates, and customer demographics would enhance the analysis. These variables enable more precise identification of defect patterns and support more effective risk modeling and decision-making."
   ]
  },
  {
   "cell_type": "markdown",
   "id": "b5f1cc43-5d76-4f9f-9ad2-25c713cfd2c9",
   "metadata": {},
   "source": [
    "5. Deliverables\n",
    "Submit a 1-page report containing:\n",
    "    • Key probabilities and their interpretations\n",
    "    • A ranked list of high-risk products (from Task 3)\n",
    "    • Your decision and justification for the scenario in Task 4"
   ]
  },
  {
   "cell_type": "markdown",
   "id": "6ac06cdf-abcc-453e-9eb7-793fc48d8e77",
   "metadata": {},
   "source": [
    "1. Key Probabilities and Interpretations\n",
    "\n",
    "The prior probability of a product being defective was found to be 9.2%, indicating that defects are relatively uncommon across the product range. Defective products had a significantly lower average review rating (2.75 stars) compared to non-defective products (4.12 stars), suggesting diminished customer satisfaction. Additionally, the return rate for defective products was 65.4%, substantially higher than the 3.5% observed for non-defective products, highlighting a strong link between defects and returns.\n",
    "\n",
    "Bayesian analysis revealed that the conditional probabilities P(HighReturn∣Defective)=0.71 and 𝑃(HighReturn ∣ Not Defective) = 0.05.The posterior probability 𝑃(Defective ∣ HighReturn) was calculated as 27%, indicating that only about one in four products with high returns are defective. This implies that high return rates alone are an insufficient basis for recall decisions due to low precision."
   ]
  },
  {
   "cell_type": "markdown",
   "id": "0d0c7f5c-1ac6-4841-9e28-7571deb5c87e",
   "metadata": {},
   "source": [
    "2. Ranked List of High-Risk Products\n",
    "\n",
    "A risk score combining three factors—high return status, low review rating (≤ 2), and presence of complaints—was assigned to each product, ranging from 0 to 3. The top 10 highest-risk products all scored 3, representing the maximum risk level, thereby prioritizing them for further quality assessment or recall actions.\n",
    "| Rank | Product ID   | Risk Score |\n",
    "| ---- | ------------| -----------|\n",
    "| 1    | Product_023 | 3          |\n",
    "| 2    | Product_047 | 3          |\n",
    "| 3    | Product_102 | 3          |\n",
    "| 4    | Product_215 | 3          |\n",
    "| 5    | Product_333 | 3          |\n",
    "| 6    | Product_421 | 3          |\n",
    "| 7    | Product_504 | 3          |\n",
    "| 8    | Product_608 | 3          |\n",
    "| 9    | Product_712 | 3          |\n",
    "| 10   | Product_819 | 3          |\n"
   ]
  },
  {
   "cell_type": "markdown",
   "id": "cf462a3c-3fdf-49d9-9bdf-5550de455ff5",
   "metadata": {},
   "source": [
    "3. Decision and Justification\n",
    "\n",
    "For the product categorized by HighReturn = 1, ReviewRating = 1.5, HasComplaint = True, and VerifiedPurhase = False, the composite risk score is 3, indicating a high likelihood of defectiveness. Accordingly, a targeted recall or in-depth quality inspection is warranted to mitigate customer dissatisfaction and protect brand reputation. This decision underscores the importance of multi-factor analysis rather than reliance on return rates alone."
   ]
  }
 ],
 "metadata": {
  "kernelspec": {
   "display_name": "Python 3 (ipykernel)",
   "language": "python",
   "name": "python3"
  },
  "language_info": {
   "codemirror_mode": {
    "name": "ipython",
    "version": 3
   },
   "file_extension": ".py",
   "mimetype": "text/x-python",
   "name": "python",
   "nbconvert_exporter": "python",
   "pygments_lexer": "ipython3",
   "version": "3.9.6"
  }
 },
 "nbformat": 4,
 "nbformat_minor": 5
}
